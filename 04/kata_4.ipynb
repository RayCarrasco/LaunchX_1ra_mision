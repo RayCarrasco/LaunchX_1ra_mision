{
 "cells": [
  {
   "cell_type": "markdown",
   "metadata": {},
   "source": [
    "# Ejercicio 1"
   ]
  },
  {
   "cell_type": "code",
   "execution_count": 29,
   "metadata": {},
   "outputs": [
    {
     "name": "stdout",
     "output_type": "stream",
     "text": [
      " \n",
      "\",\n",
      "\"On average, the Moon moves 4cm away from the Earth every year\n",
      " \n",
      "The highest daylight temperature of the Moon is 127 celcius\n"
     ]
    }
   ],
   "source": [
    "text = \"\"\"\n",
    "Interesting facts about the Moon. The Moon is Earth's only satellite. \n",
    "There are several interesting facts about the Moon and how it affects life here on Earth. \\n\",\n",
    "\"On average, the Moon moves 4cm away from the Earth every year.\n",
    "This yearly drift is not significant enough to cause immediate effects on Earth. \n",
    "The highest daylight temperature of the Moon is 127 C.\n",
    "        \"\"\"\n",
    "oraciones = text.split(\".\")\n",
    "key_words = [\"average\", \"temperature\", \"distance\"]\n",
    "\n",
    "for oracion in oraciones:\n",
    "        for word in key_words:\n",
    "                if word in oracion:\n",
    "                        print (oracion.replace(\"C\", \"celcius\"))"
   ]
  },
  {
   "cell_type": "markdown",
   "metadata": {},
   "source": [
    "# Ejercicio 2"
   ]
  },
  {
   "cell_type": "code",
   "execution_count": 25,
   "metadata": {},
   "outputs": [
    {
     "name": "stdout",
     "output_type": "stream",
     "text": [
      "Gravity Facts about Earth\n",
      " -------------------------------------------------------------------------------\n",
      " planeta = Moon \n",
      "gravedad  = 1.6199999999999999 m/s2 \n",
      "nombre = Earth\n"
     ]
    }
   ],
   "source": [
    "# Datos con los que vas a trabajar\n",
    "name = \"Moon\"\n",
    "gravity = 0.00162 # in kms\n",
    "planet = \"Earth\"\n",
    "\n",
    "# Creamos el título\n",
    "titulo = f\"Gravity Facts about {planet}\\n\"\n",
    "separator = \"-------------------------------------------------------------------------------\\n\"\n",
    "\n",
    "# Creamos la plantilla\n",
    "plantilla = f\"planeta = {name} \\n\" + f\"gravedad  = {gravity * 1000} m/s2 \\n\" + f\"nombre = {planet}\"\n",
    "\n",
    "# Unión de ambas cadenas\n",
    "print(titulo,separator,plantilla)\n",
    "\n",
    "\n",
    "\n"
   ]
  }
 ],
 "metadata": {
  "interpreter": {
   "hash": "32ecfd99300abd0a996586c7681be3822cee93a0bc272dbc42ab17a24d1d60ba"
  },
  "kernelspec": {
   "display_name": "Python 3.10.2 64-bit",
   "language": "python",
   "name": "python3"
  },
  "language_info": {
   "codemirror_mode": {
    "name": "ipython",
    "version": 3
   },
   "file_extension": ".py",
   "mimetype": "text/x-python",
   "name": "python",
   "nbconvert_exporter": "python",
   "pygments_lexer": "ipython3",
   "version": "3.10.2"
  },
  "orig_nbformat": 4
 },
 "nbformat": 4,
 "nbformat_minor": 2
}
