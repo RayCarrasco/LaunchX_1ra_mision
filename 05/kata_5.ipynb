{
 "cells": [
  {
   "cell_type": "markdown",
   "metadata": {},
   "source": [
    "# Ejercicio 1"
   ]
  },
  {
   "cell_type": "code",
   "execution_count": 1,
   "metadata": {},
   "outputs": [
    {
     "name": "stdout",
     "output_type": "stream",
     "text": [
      "628949330\n",
      "390577533.93\n"
     ]
    }
   ],
   "source": [
    "# Crear variables para almacenar las dos distancias\n",
    "# ¡Asegúrate de quitar las comas!\n",
    "tierra = 149597870\n",
    "jupiter = 778547200\n",
    "\n",
    "# Calcular la distancia entre planetas\n",
    "distancia = jupiter - tierra\n",
    "distancia_millas = distancia * 0.621\n",
    "\n",
    "print(distancia)\n",
    "print(distancia_millas)"
   ]
  },
  {
   "cell_type": "markdown",
   "metadata": {},
   "source": [
    "# Ejercicio 2"
   ]
  },
  {
   "cell_type": "code",
   "execution_count": 2,
   "metadata": {},
   "outputs": [
    {
     "name": "stdout",
     "output_type": "stream",
     "text": [
      "10\n",
      "6.21\n"
     ]
    }
   ],
   "source": [
    "# Almacenar las entradas del usuario\n",
    "#Pista: variable = input(\"¿Cuál es tu nombre?\")\n",
    "# Convierte las cadenas de ambos planetas a números enteros\n",
    "\n",
    "planeta_1 = int(input(\"Distancia del sol de planeta 1: \"))\n",
    "planeta_2 = int(input(\"Distancia del sol de planeta 2: \"))\n",
    "\n",
    "# Realizar el cálculo y determinar el valor absoluto\n",
    "distancia = abs(planeta_1 - planeta_2)\n",
    "\n",
    "# Convertir de KM a Millas\n",
    "distancia_millas = distancia * 0.621\n",
    "\n",
    "print(distancia)\n",
    "print(distancia_millas)"
   ]
  }
 ],
 "metadata": {
  "interpreter": {
   "hash": "32ecfd99300abd0a996586c7681be3822cee93a0bc272dbc42ab17a24d1d60ba"
  },
  "kernelspec": {
   "display_name": "Python 3.10.2 64-bit",
   "language": "python",
   "name": "python3"
  },
  "language_info": {
   "codemirror_mode": {
    "name": "ipython",
    "version": 3
   },
   "file_extension": ".py",
   "mimetype": "text/x-python",
   "name": "python",
   "nbconvert_exporter": "python",
   "pygments_lexer": "ipython3",
   "version": "3.10.2"
  },
  "orig_nbformat": 4
 },
 "nbformat": 4,
 "nbformat_minor": 2
}
