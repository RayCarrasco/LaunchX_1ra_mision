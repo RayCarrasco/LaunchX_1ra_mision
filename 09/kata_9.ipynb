{
 "cells": [
  {
   "cell_type": "markdown",
   "metadata": {},
   "source": [
    "# Ejercicio 9: Uso de funciones en Python\n",
    "\n",
    "## Ejercicio 1: Trabajar con argumentos en funciones\n",
    "\n",
    "Los argumentos requeridos en las funciones se utilizan cuando las funciones necesitan que esos argumentos funcionen correctamente. En este ejercicio, construirás un informe de combustible que requiere información de varias ubicaciones de combustible en todo el cohete.\n",
    "\n",
    "TIP Dedica unos minutos para tratar de encontrar una solución. Luego desplázate hacia abajo hasta la parte inferior para ver si has logrado compilar el programa de acuerdo con las especificaciones\n",
    "\n",
    "Comienza por crear una función que necesite tres lecturas de combustible y devuelva un informe:\n",
    "\n"
   ]
  },
  {
   "cell_type": "code",
   "execution_count": 26,
   "metadata": {},
   "outputs": [],
   "source": [
    "# Función para leer 3 tanques de combustible y muestre el promedio\n",
    "\n",
    "def informe(tanque_1: int, tanque_2: int, tanque_3:int ):\n",
    "    print( \n",
    "        f'*** Estado de tanques ***\\n' \n",
    "        f'tanque 1: {tanque_1} % \\n'\n",
    "        f'tanque 2: {tanque_2} % \\n'\n",
    "        f'tanque 3: {tanque_3} % \\n'\n",
    "    )\n"
   ]
  },
  {
   "cell_type": "markdown",
   "metadata": {},
   "source": [
    "Ahora que hemos definido la función de informes, vamos a comprobarlo. Para esta misión, los tanques no están llenos:"
   ]
  },
  {
   "cell_type": "code",
   "execution_count": 27,
   "metadata": {},
   "outputs": [
    {
     "name": "stdout",
     "output_type": "stream",
     "text": [
      "*** Estado de tanques ***\n",
      "tanque 1: 88 % \n",
      "tanque 2: 99 % \n",
      "tanque 3: 25 % \n",
      "\n"
     ]
    }
   ],
   "source": [
    "# Llamamos a la función que genera el reporte print(funcion(tanque1, tanque2, tanque3))\n",
    "informe(88,99,25)\n"
   ]
  },
  {
   "cell_type": "markdown",
   "metadata": {},
   "source": [
    "En lugar de simplemente crear el informe, la función también está calculando el promedio. Mejora la legibilidad extrayendo el cálculo promedio de la función en una nueva función para que el promedio se pueda hacer de forma independiente:"
   ]
  },
  {
   "cell_type": "code",
   "execution_count": 30,
   "metadata": {},
   "outputs": [],
   "source": [
    "# Función promedio \n",
    "\n",
    "def promedio(*args):\n",
    "    return sum(args) / len(args)"
   ]
  },
  {
   "cell_type": "markdown",
   "metadata": {},
   "source": [
    "Ahora actualiza la función de informes para llamando a la nueva función del promedio:"
   ]
  },
  {
   "cell_type": "code",
   "execution_count": 33,
   "metadata": {},
   "outputs": [
    {
     "name": "stdout",
     "output_type": "stream",
     "text": [
      "*** Estado de tanques ***\n",
      "tanque 1: 88 % \n",
      "tanque 2: 99 % \n",
      "tanque 3: 25 % \n",
      "Promedio: 70.67 % \n",
      "\n"
     ]
    }
   ],
   "source": [
    "# Actualiza la función\n",
    "\n",
    "def informe(tanque_1: int, tanque_2: int, tanque_3:int ):\n",
    "    print( \n",
    "        f'*** Estado de tanques ***\\n' \n",
    "        f'tanque 1: {tanque_1} % \\n'\n",
    "        f'tanque 2: {tanque_2} % \\n'\n",
    "        f'tanque 3: {tanque_3} % \\n'\n",
    "        f'Promedio: {promedio(tanque_1, tanque_2, tanque_3):.2f} % \\n'\n",
    "    )\n",
    "\n",
    "\n",
    "informe(88,99,25)"
   ]
  },
  {
   "cell_type": "markdown",
   "metadata": {},
   "source": [
    "## Ejercicio 2: Trabajo con argumentos de palabra clave\n",
    "\n",
    "Ejercicio : Trabajar con argumentos de palabras clave en funciones\n",
    "\n",
    "En este ejercicio, construirás un informe de cohete que requiere varias piezas de información, como el tiempo hasta el destino, el combustible a la izquierda y el nombre del destino. Comienza por crear una función que creará un informe preciso de la misión:"
   ]
  },
  {
   "cell_type": "code",
   "execution_count": 35,
   "metadata": {},
   "outputs": [],
   "source": [
    "# Función con un informe preciso de la misión. Considera hora de prelanzamiento, tiempo de vuelo, destino, tanque externo y tanque interno\n",
    "\n",
    "def informe(**kargs):\n",
    "    for key, value in kargs:\n",
    "        print(f'{key}: {value}')"
   ]
  },
  {
   "cell_type": "markdown",
   "metadata": {},
   "source": [
    "La función es problemática porque no se puede adaptar para minutos adicionales o tanques adicionales de combustible. Hazlo más flexible permitiendo cualquier número de pasos basados en el tiempo y cualquier número de tanques. En lugar de usar *args y **kwargs, aprovecha el hecho de que puedes usar cualquier nombre que desees. Asegurate que la función sea más legible mediante el uso de nombres de variables que están asociados con las entradas, como *minutes y **fuel_reservoirs:\n",
    "\n",
    "Debido a que el combustible que queda en los tanques es específico de cada tanque, actualiza la función para usar el nombre de cada tanque en el informe:\n",
    "\n"
   ]
  },
  {
   "cell_type": "code",
   "execution_count": 44,
   "metadata": {},
   "outputs": [
    {
     "name": "stdout",
     "output_type": "stream",
     "text": [
      "Minutos a destino #1: 15\n",
      "Minutos a destino #2: 25\n",
      "Minutos a destino #3: 36\n",
      "Minutos a destino #4: 96\n",
      "tank_1: 10\n",
      "tank_2: 88\n",
      "tank_3: 25\n"
     ]
    }
   ],
   "source": [
    "# Escribe tu nueva función de reporte considerando lo anterior\n",
    "\n",
    "def informe(*minutes, **fuel_reservoirs):\n",
    "\n",
    "    for destiny,time in enumerate(minutes):\n",
    "        print(f'Minutos a destino #{destiny + 1}: {time}')\n",
    "\n",
    "    for tank, value in fuel_reservoirs.items():\n",
    "        print(f'{tank}: {value}')\n",
    "\n",
    "informe(15, 25,36, 96, tank_1 = 10, tank_2 =88, tank_3 = 25)"
   ]
  }
 ],
 "metadata": {
  "interpreter": {
   "hash": "32ecfd99300abd0a996586c7681be3822cee93a0bc272dbc42ab17a24d1d60ba"
  },
  "kernelspec": {
   "display_name": "Python 3.10.2 64-bit",
   "language": "python",
   "name": "python3"
  },
  "language_info": {
   "codemirror_mode": {
    "name": "ipython",
    "version": 3
   },
   "file_extension": ".py",
   "mimetype": "text/x-python",
   "name": "python",
   "nbconvert_exporter": "python",
   "pygments_lexer": "ipython3",
   "version": "3.10.2"
  },
  "orig_nbformat": 4
 },
 "nbformat": 4,
 "nbformat_minor": 2
}
